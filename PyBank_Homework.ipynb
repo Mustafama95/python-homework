{
 "cells": [
  {
   "cell_type": "code",
   "execution_count": null,
   "metadata": {},
   "outputs": [],
   "source": [
    "###Your task is to create a Python script that analyzes the records to calculate each of the following:\n",
    "\n",
    "\n",
    "    #The total number of months included in the dataset.\n",
    "\n",
    "    #The net total amount of Profit/Losses over the entire period.\n",
    "\n",
    "    #The average of the changes in Profit/Losses over the entire period.\n",
    "\n",
    "    #The greatest increase in profits (date and amount) over the entire period.\n",
    "\n",
    "    #The greatest decrease in losses (date and amount) over the entire period."
   ]
  },
  {
   "cell_type": "code",
   "execution_count": 1,
   "metadata": {},
   "outputs": [],
   "source": [
    "# initial imports\n",
    "import pandas as pd\n",
    "from pathlib import Path"
   ]
  },
  {
   "cell_type": "code",
   "execution_count": 3,
   "metadata": {},
   "outputs": [],
   "source": [
    "## Create a dataframe reading a CSV file\n",
    " # set the file path\n",
    "file_path = Path(\"../Resources/budget_data.csv\")\n",
    "\n",
    "# create a Pandas dataframe from a csv file\n",
    "df = pd.read_csv(file_path)"
   ]
  },
  {
   "cell_type": "code",
   "execution_count": 33,
   "metadata": {},
   "outputs": [
    {
     "name": "stdout",
     "output_type": "stream",
     "text": [
      "Financial Analysis\n",
      "-------------------------\n"
     ]
    }
   ],
   "source": [
    "## Print header\n",
    "header_output = (\"Financial Analysis\\n-------------------------\")\n",
    "print(header_output)"
   ]
  },
  {
   "cell_type": "code",
   "execution_count": 35,
   "metadata": {},
   "outputs": [
    {
     "name": "stdout",
     "output_type": "stream",
     "text": [
      "Total Months: 86\n"
     ]
    }
   ],
   "source": [
    "##Total months count\n",
    "months_count = df['Date'].count()\n",
    "months_count_output = (\"Total Months: \"+str(months_count))\n",
    "\n",
    "#Print total months count\n",
    "print(months_count_output)"
   ]
  },
  {
   "cell_type": "code",
   "execution_count": 36,
   "metadata": {},
   "outputs": [
    {
     "name": "stdout",
     "output_type": "stream",
     "text": [
      "Total: $38382578\n"
     ]
    }
   ],
   "source": [
    "##Initiate Total_profit_losses variable and calculate the net total amount of Profit/Losses over the entire period\n",
    "Total_profit_losses = df['Profit/Losses'].sum()\n",
    "Total_PL_output = (\"Total: $\" +str(Total_profit_losses))\n",
    "\n",
    "#Print net Profit/Losses\n",
    "print(Total_PL_output)"
   ]
  },
  {
   "cell_type": "code",
   "execution_count": 38,
   "metadata": {},
   "outputs": [
    {
     "name": "stdout",
     "output_type": "stream",
     "text": [
      "Average Change: $-2315.12\n"
     ]
    }
   ],
   "source": [
    "##Calculate the monthly changes in P/L over the entire period\n",
    "df['Diff'] = df['Profit/Losses'] - df['Profit/Losses'].shift(1)\n",
    "\n",
    "#Calculate average change over the entire period\n",
    "Average_Change = round(df['Diff'].mean(),2)\n",
    "Average_Change_output = (\"Average Change: $\" +str(Average_Change))\n",
    "\n",
    "#Print the Average Change over the entire period\n",
    "print(Average_Change_output)"
   ]
  },
  {
   "cell_type": "code",
   "execution_count": 42,
   "metadata": {},
   "outputs": [
    {
     "name": "stdout",
     "output_type": "stream",
     "text": [
      "Greatest Increase in Profits: Feb-2012 ($1926159)\n"
     ]
    }
   ],
   "source": [
    "##The greatest increase in profits (date and amount) over the entire period (idxmax)\n",
    "greatest_profit_delta = int(df['Diff'].max())\n",
    "\n",
    "#Get the month of the greatest increase in profits\n",
    "best_month = df['Date'].loc[df['Diff'].idxmax()]\n",
    "best_month_output = (\"Greatest Increase in Profits: \" +best_month +\" ($\"+str(greatest_profit_delta)+\")\")\n",
    "\n",
    "#Print the greatest increase in profits (date and amount) over the entire period\n",
    "print(best_month_output)\n"
   ]
  },
  {
   "cell_type": "code",
   "execution_count": 43,
   "metadata": {},
   "outputs": [
    {
     "name": "stdout",
     "output_type": "stream",
     "text": [
      "Greatest Decrease in Profits: Sep-2013 ($-2196167)\n"
     ]
    }
   ],
   "source": [
    "##The greatest decrease in profits (date and amount) over the entire period (idxmin)\n",
    "greatest_loss_delta = int(df['Diff'].min())\n",
    "\n",
    "#Get the month of the greatest decrease in losses\n",
    "worst_month = df['Date'].loc[df['Diff'].idxmin()]\n",
    "worst_month_output = (\"Greatest Decrease in Profits: \" +worst_month +\" ($\"+str(greatest_loss_delta)+\")\")\n",
    "\n",
    "#Print the greatest decrease in profits (date and amount) over the entire period\n",
    "print(worst_month_output)"
   ]
  },
  {
   "cell_type": "code",
   "execution_count": 45,
   "metadata": {},
   "outputs": [],
   "source": [
    "##Push results to a text file\n",
    "with open(\"budget_data.txt\", \"w+\") as output:\n",
    "    output.write(f'{header_output}\\n{months_count_output}\\n{Total_PL_output}\\n{Average_Change_output}\\n{best_month_output}\\n{worst_month_output}')"
   ]
  },
  {
   "cell_type": "code",
   "execution_count": null,
   "metadata": {},
   "outputs": [],
   "source": []
  }
 ],
 "metadata": {
  "kernelspec": {
   "display_name": "Python 3",
   "language": "python",
   "name": "python3"
  },
  "language_info": {
   "codemirror_mode": {
    "name": "ipython",
    "version": 3
   },
   "file_extension": ".py",
   "mimetype": "text/x-python",
   "name": "python",
   "nbconvert_exporter": "python",
   "pygments_lexer": "ipython3",
   "version": "3.7.9"
  }
 },
 "nbformat": 4,
 "nbformat_minor": 4
}
